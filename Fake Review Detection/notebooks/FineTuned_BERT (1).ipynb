{
 "cells": [
  {
   "cell_type": "markdown",
   "id": "a3a325c0-df6f-4313-8764-4fc2840e9569",
   "metadata": {},
   "source": [
    "# Fine-Tuned RoBERTa-based Model\n",
    "## for distinguishing between :-\n",
    "## 1. Computer Generated and,\n",
    "## 2. Fake Reviews on an E-commerce Platform\n",
    "### The RoBERTa model - RoBERTa: A Robustly Optimized BERT Pretraining Approach is based on Google’s BERT model released in 2018.\n",
    "\n",
    "### It builds on BERT and modifies key hyperparameters, removing the next-sentence pretraining objective and training with much larger mini-batches and learning rates. It is a greatly optimised BERT model, providing better accuracy and performance."
   ]
  },
  {
   "cell_type": "markdown",
   "id": "115a88c3-b3e8-450f-a88e-dc61e3214d77",
   "metadata": {},
   "source": [
    "#### Importing Libraries"
   ]
  },
  {
   "cell_type": "code",
   "execution_count": 5,
   "id": "1c2f536a-e6ac-4846-8842-2272fdc05a16",
   "metadata": {
    "tags": []
   },
   "outputs": [
    {
     "ename": "ModuleNotFoundError",
     "evalue": "No module named 'torch'",
     "output_type": "error",
     "traceback": [
      "\u001b[1;31m---------------------------------------------------------------------------\u001b[0m",
      "\u001b[1;31mModuleNotFoundError\u001b[0m                       Traceback (most recent call last)",
      "Cell \u001b[1;32mIn[5], line 2\u001b[0m\n\u001b[0;32m      1\u001b[0m \u001b[38;5;28;01mimport\u001b[39;00m \u001b[38;5;21;01mpandas\u001b[39;00m \u001b[38;5;28;01mas\u001b[39;00m \u001b[38;5;21;01mpd\u001b[39;00m\n\u001b[1;32m----> 2\u001b[0m \u001b[38;5;28;01mimport\u001b[39;00m \u001b[38;5;21;01mtorch\u001b[39;00m\n\u001b[0;32m      3\u001b[0m \u001b[38;5;28;01mfrom\u001b[39;00m \u001b[38;5;21;01mtorch\u001b[39;00m\u001b[38;5;21;01m.\u001b[39;00m\u001b[38;5;21;01mutils\u001b[39;00m\u001b[38;5;21;01m.\u001b[39;00m\u001b[38;5;21;01mdata\u001b[39;00m \u001b[38;5;28;01mimport\u001b[39;00m Dataset, DataLoader\n\u001b[0;32m      4\u001b[0m \u001b[38;5;28;01mfrom\u001b[39;00m \u001b[38;5;21;01mtransformers\u001b[39;00m \u001b[38;5;28;01mimport\u001b[39;00m RobertaForSequenceClassification, RobertaTokenizer\n",
      "\u001b[1;31mModuleNotFoundError\u001b[0m: No module named 'torch'"
     ]
    }
   ],
   "source": [
    "import pandas as pd\n",
    "import torch\n",
    "from torch.utils.data import Dataset, DataLoader\n",
    "from transformers import RobertaForSequenceClassification, RobertaTokenizer\n",
    "from sklearn.model_selection import train_test_split\n",
    "print(\"Imports Successful\")"
   ]
  },
  {
   "cell_type": "code",
   "execution_count": null,
   "id": "b9e417d6-07b1-43ff-8256-f1b889dabc82",
   "metadata": {
    "tags": []
   },
   "outputs": [],
   "source": [
    "from torch import cuda\n",
    "device = 'cuda' if cuda.is_available() else 'cpu'"
   ]
  },
  {
   "cell_type": "markdown",
   "id": "7f202edd-8a43-4ba3-a66b-fbd07c1c2485",
   "metadata": {},
   "source": [
    "## Encoding Data\n",
    "{\"CG\" -> 0, \"OR\" -> 1}\\\n",
    "CG => Computer Generated ; OR => Original"
   ]
  },
  {
   "cell_type": "code",
   "execution_count": null,
   "id": "df5c3ea6-a4a1-4ca7-b2cd-c0a83fce56e6",
   "metadata": {
    "tags": []
   },
   "outputs": [],
   "source": [
    "encoded_label_dict = {\"CG\" : 0, \"OR\" : 1}\n",
    "def encode_label(x):\n",
    "    return encoded_label_dict.get(x,-1)\n",
    "\n",
    "df = pd.read_csv(\"Fake_Preprocess_data.csv\")"
   ]
  },
  {
   "cell_type": "code",
   "execution_count": null,
   "id": "c0cd1d8e-1fc5-4bae-ab8a-0241b5612a01",
   "metadata": {
    "tags": []
   },
   "outputs": [],
   "source": [
    "df[\"target\"] = df[\"label\"].apply(lambda x: encode_label(x))"
   ]
  },
  {
   "cell_type": "markdown",
   "id": "d14daecf-3410-4549-9c97-46f94b4232a7",
   "metadata": {},
   "source": [
    "## Defining and Loading Model"
   ]
  },
  {
   "cell_type": "code",
   "execution_count": null,
   "id": "ed3efebf-7dd2-4bd8-8cf3-0d5dbfc55e08",
   "metadata": {
    "tags": []
   },
   "outputs": [],
   "source": [
    "model_name = \"roberta-base\"\n",
    "MAX_LEN = 256\n",
    "TRAIN_BATCH_SIZE = 8\n",
    "VALID_BATCH_SIZE = 8\n",
    "EPOCHS = 1\n",
    "LEARNING_RATE = 1e-05"
   ]
  },
  {
   "cell_type": "code",
   "execution_count": null,
   "id": "7f1caa55-f683-4736-8e6e-4f5ab72f07fd",
   "metadata": {
    "tags": []
   },
   "outputs": [
    {
     "name": "stdout",
     "output_type": "stream",
     "text": [
      "TOKENIZED\n"
     ]
    }
   ],
   "source": [
    "tokenizer = RobertaTokenizer.from_pretrained(model_name)\n",
    "print(\"TOKENIZED\")"
   ]
  },
  {
   "cell_type": "code",
   "execution_count": null,
   "id": "8ed1ace1-4370-4ec1-9841-dda518b23608",
   "metadata": {
    "tags": []
   },
   "outputs": [],
   "source": [
    "class Triage(Dataset):\n",
    "    def __init__(self, dataframe, tokenizer, max_len):\n",
    "        self.len = len(dataframe)\n",
    "        self.data = dataframe\n",
    "        self.tokenizer = tokenizer\n",
    "        self.max_len = max_len\n",
    "        \n",
    "    def __getitem__(self, index):\n",
    "        title = str(self.data.text_[index])\n",
    "        title = \" \".join(title.split())\n",
    "        inputs = self.tokenizer.encode_plus(\n",
    "            title,\n",
    "            None,\n",
    "            add_special_tokens=True,\n",
    "            max_length=self.max_len,\n",
    "            pad_to_max_length=True,\n",
    "            return_token_type_ids=True,\n",
    "            truncation=True\n",
    "        )\n",
    "        ids = inputs['input_ids']\n",
    "        mask = inputs['attention_mask']\n",
    "\n",
    "        return {\n",
    "            'ids': torch.tensor(ids, dtype=torch.long),\n",
    "            'mask': torch.tensor(mask, dtype=torch.long),\n",
    "            'targets': torch.tensor(self.data.target[index], dtype=torch.long)\n",
    "        } \n",
    "    \n",
    "    def __len__(self):\n",
    "        return self.len"
   ]
  },
  {
   "cell_type": "markdown",
   "id": "6bca96cd-e150-4ad5-b649-d96946e52b13",
   "metadata": {},
   "source": [
    "## Split DataSet into Train & Validation and create a Data Loader"
   ]
  },
  {
   "cell_type": "code",
   "execution_count": null,
   "id": "deef9f4c-640f-4126-a7a6-94a566be2348",
   "metadata": {
    "tags": []
   },
   "outputs": [
    {
     "name": "stdout",
     "output_type": "stream",
     "text": [
      "FULL Dataset: (40432, 5)\n",
      "TRAIN Dataset: (32345, 5)\n",
      "VALID Dataset: (8087, 5)\n"
     ]
    }
   ],
   "source": [
    "train_dataset, valid_dataset = train_test_split(df, test_size=0.2, shuffle=True, stratify=None, random_state=2021)\n",
    "train_dataset = train_dataset.reset_index(drop=True)\n",
    "valid_dataset = valid_dataset.reset_index(drop=True)\n",
    "\n",
    "print(\"FULL Dataset: {}\".format(df.shape))\n",
    "print(\"TRAIN Dataset: {}\".format(train_dataset.shape))\n",
    "print(\"VALID Dataset: {}\".format(valid_dataset.shape))\n",
    "\n",
    "training_set = Triage(train_dataset, tokenizer, MAX_LEN)\n",
    "testing_set = Triage(valid_dataset, tokenizer, MAX_LEN)"
   ]
  },
  {
   "cell_type": "code",
   "execution_count": null,
   "id": "40e73b29-f436-409d-ae06-778256ef8e3d",
   "metadata": {
    "tags": []
   },
   "outputs": [],
   "source": [
    "train_params = {'batch_size': TRAIN_BATCH_SIZE,\n",
    "                'shuffle': True,\n",
    "                'num_workers': 0\n",
    "                }\n",
    "\n",
    "valid_params = {'batch_size': VALID_BATCH_SIZE,\n",
    "                'shuffle': True,\n",
    "                'num_workers': 0\n",
    "                }\n",
    "\n",
    "training_loader = DataLoader(training_set, **train_params)\n",
    "testing_loader = DataLoader(testing_set, **valid_params)\n"
   ]
  },
  {
   "cell_type": "markdown",
   "id": "b6d490da-7353-469d-9dc2-53d59bf04f60",
   "metadata": {},
   "source": [
    "## Train the Model"
   ]
  },
  {
   "cell_type": "code",
   "execution_count": null,
   "id": "7acfe03a-46d5-4b1b-bb6e-fc2e4e447102",
   "metadata": {
    "tags": []
   },
   "outputs": [
    {
     "name": "stderr",
     "output_type": "stream",
     "text": [
      "Some weights of the model checkpoint at roberta-base were not used when initializing RobertaForSequenceClassification: ['lm_head.dense.weight', 'lm_head.bias', 'lm_head.layer_norm.weight', 'lm_head.dense.bias', 'lm_head.layer_norm.bias']\n",
      "- This IS expected if you are initializing RobertaForSequenceClassification from the checkpoint of a model trained on another task or with another architecture (e.g. initializing a BertForSequenceClassification model from a BertForPreTraining model).\n",
      "- This IS NOT expected if you are initializing RobertaForSequenceClassification from the checkpoint of a model that you expect to be exactly identical (initializing a BertForSequenceClassification model from a BertForSequenceClassification model).\n",
      "Some weights of RobertaForSequenceClassification were not initialized from the model checkpoint at roberta-base and are newly initialized: ['classifier.out_proj.bias', 'classifier.dense.bias', 'classifier.out_proj.weight', 'classifier.dense.weight']\n",
      "You should probably TRAIN this model on a down-stream task to be able to use it for predictions and inference.\n"
     ]
    },
    {
     "data": {
      "text/plain": [
       "RobertaForSequenceClassification(\n",
       "  (roberta): RobertaModel(\n",
       "    (embeddings): RobertaEmbeddings(\n",
       "      (word_embeddings): Embedding(50265, 768, padding_idx=1)\n",
       "      (position_embeddings): Embedding(514, 768, padding_idx=1)\n",
       "      (token_type_embeddings): Embedding(1, 768)\n",
       "      (LayerNorm): LayerNorm((768,), eps=1e-05, elementwise_affine=True)\n",
       "      (dropout): Dropout(p=0.1, inplace=False)\n",
       "    )\n",
       "    (encoder): RobertaEncoder(\n",
       "      (layer): ModuleList(\n",
       "        (0-11): 12 x RobertaLayer(\n",
       "          (attention): RobertaAttention(\n",
       "            (self): RobertaSelfAttention(\n",
       "              (query): Linear(in_features=768, out_features=768, bias=True)\n",
       "              (key): Linear(in_features=768, out_features=768, bias=True)\n",
       "              (value): Linear(in_features=768, out_features=768, bias=True)\n",
       "              (dropout): Dropout(p=0.1, inplace=False)\n",
       "            )\n",
       "            (output): RobertaSelfOutput(\n",
       "              (dense): Linear(in_features=768, out_features=768, bias=True)\n",
       "              (LayerNorm): LayerNorm((768,), eps=1e-05, elementwise_affine=True)\n",
       "              (dropout): Dropout(p=0.1, inplace=False)\n",
       "            )\n",
       "          )\n",
       "          (intermediate): RobertaIntermediate(\n",
       "            (dense): Linear(in_features=768, out_features=3072, bias=True)\n",
       "            (intermediate_act_fn): GELUActivation()\n",
       "          )\n",
       "          (output): RobertaOutput(\n",
       "            (dense): Linear(in_features=3072, out_features=768, bias=True)\n",
       "            (LayerNorm): LayerNorm((768,), eps=1e-05, elementwise_affine=True)\n",
       "            (dropout): Dropout(p=0.1, inplace=False)\n",
       "          )\n",
       "        )\n",
       "      )\n",
       "    )\n",
       "  )\n",
       "  (classifier): RobertaClassificationHead(\n",
       "    (dense): Linear(in_features=768, out_features=768, bias=True)\n",
       "    (dropout): Dropout(p=0.1, inplace=False)\n",
       "    (out_proj): Linear(in_features=768, out_features=2, bias=True)\n",
       "  )\n",
       ")"
      ]
     },
     "execution_count": 10,
     "metadata": {},
     "output_type": "execute_result"
    }
   ],
   "source": [
    "model = RobertaForSequenceClassification.from_pretrained(model_name)\n",
    "model.to(device)"
   ]
  },
  {
   "cell_type": "markdown",
   "id": "d7a590d4-1e45-41bb-9b3b-aa360ce6b027",
   "metadata": {
    "tags": []
   },
   "source": [
    " Creating the optimizer"
   ]
  },
  {
   "cell_type": "code",
   "execution_count": null,
   "id": "e9dbbc7c-1c4a-4082-b3a5-c93e971434d6",
   "metadata": {
    "tags": []
   },
   "outputs": [],
   "source": [
    "optimizer = torch.optim.Adam(params=model.parameters(), lr=LEARNING_RATE)"
   ]
  },
  {
   "cell_type": "markdown",
   "id": "c9458a32-0c38-4e33-9a03-9565726811ba",
   "metadata": {},
   "source": [
    "#### Function to calcuate the accuracy of the model"
   ]
  },
  {
   "cell_type": "code",
   "execution_count": null,
   "id": "8e30f6c2-976c-4b1c-aede-2a8ad37c747e",
   "metadata": {
    "tags": []
   },
   "outputs": [],
   "source": [
    "def calcuate_accu(big_idx, targets):\n",
    "    n_correct = (big_idx==targets).sum().item()\n",
    "    return n_correct"
   ]
  },
  {
   "cell_type": "markdown",
   "id": "c84b8a1d-9a02-42a0-aa0a-fd96beb7bebc",
   "metadata": {},
   "source": [
    "#### Defining the training function on the 80% of the dataset for tuning the roberta model"
   ]
  },
  {
   "cell_type": "code",
   "execution_count": null,
   "id": "c9c1dc9d-6fc7-487c-80c4-d252f0fa7f76",
   "metadata": {
    "tags": []
   },
   "outputs": [],
   "source": [
    "def train(epoch):\n",
    "    tr_loss = 0\n",
    "    n_correct = 0\n",
    "    nb_tr_steps = 0\n",
    "    nb_tr_examples = 0\n",
    "    model.train()\n",
    "    for _,data in enumerate(training_loader, 0):\n",
    "        ids = data['ids'].to(device, dtype = torch.long)\n",
    "        mask = data['mask'].to(device, dtype = torch.long)\n",
    "        targets = data['targets'].to(device, dtype = torch.long)\n",
    "        \n",
    "        optimizer.zero_grad()\n",
    "        outputs = model(ids, attention_mask=mask, labels=targets)\n",
    "        loss = outputs.loss\n",
    "        logits = outputs.logits\n",
    "        tr_loss += loss\n",
    "        big_val, big_idx = torch.max(logits, dim=1)\n",
    "        n_correct += calcuate_accu(big_idx, targets)\n",
    "\n",
    "        nb_tr_steps += 1\n",
    "        nb_tr_examples+=targets.size(0)\n",
    "        \n",
    "        if _!=0 and _%100==0:\n",
    "            loss_step = tr_loss/nb_tr_steps\n",
    "            accu_step = (n_correct*100)/nb_tr_examples \n",
    "            print(f\"Training Loss per 100 steps: {loss_step}\")\n",
    "            print(f\"Training Accuracy per 100 steps: {accu_step}\")\n",
    "\n",
    "        loss.backward()\n",
    "        optimizer.step()\n",
    "\n",
    "    print(f'The Total Accuracy for Epoch {epoch}: {(n_correct*100)/nb_tr_examples}')\n",
    "    epoch_loss = tr_loss/nb_tr_steps\n",
    "    epoch_accu = (n_correct*100)/nb_tr_examples\n",
    "    print(f\"Training Loss Epoch: {epoch_loss}\")\n",
    "    print(f\"Training Accuracy Epoch: {epoch_accu}\")\n",
    "\n",
    "    return "
   ]
  },
  {
   "cell_type": "code",
   "execution_count": null,
   "id": "80940379-88dd-47b1-b1be-dac787827a59",
   "metadata": {
    "tags": []
   },
   "outputs": [],
   "source": [
    "def valid(model, testing_loader):\n",
    "    model.eval()\n",
    "    n_correct = 0\n",
    "    n_wrong = 0\n",
    "    total = 0\n",
    "    tr_loss = 0\n",
    "    nb_tr_steps = 0\n",
    "    nb_tr_examples = 0\n",
    "    with torch.no_grad():\n",
    "        for _, data in enumerate(testing_loader, 0):\n",
    "            ids = data['ids'].to(device, dtype = torch.long)\n",
    "            mask = data['mask'].to(device, dtype = torch.long)\n",
    "            targets = data['targets'].to(device, dtype = torch.long)\n",
    "            outputs = model(ids, attention_mask=mask, labels=targets)\n",
    "            loss = outputs.loss\n",
    "            logits = outputs.logits\n",
    "            tr_loss += loss\n",
    "            big_val, big_idx = torch.max(logits, dim=1)\n",
    "            n_correct += calcuate_accu(big_idx, targets)\n",
    "\n",
    "            nb_tr_steps += 1\n",
    "            nb_tr_examples+=targets.size(0)\n",
    "            \n",
    "            if _!=0 and _%100==0:\n",
    "                loss_step = tr_loss/nb_tr_steps\n",
    "                accu_step = (n_correct*100)/nb_tr_examples\n",
    "                print(f\"Validation Loss per 100 steps: {loss_step}\")\n",
    "                print(f\"Validation Accuracy per 100 steps: {accu_step}\")\n",
    "    epoch_loss = tr_loss/nb_tr_steps\n",
    "    epoch_accu = (n_correct*100)/nb_tr_examples\n",
    "    print(f\"Validation Loss Epoch: {epoch_loss}\")\n",
    "    print(f\"Validation Accuracy Epoch: {epoch_accu}\")\n",
    "    \n",
    "    return epoch_accu"
   ]
  },
  {
   "cell_type": "markdown",
   "id": "8e9eed0c-ab4a-46b5-947b-1ce68cdd1f6b",
   "metadata": {},
   "source": [
    "#### Execute Training"
   ]
  },
  {
   "cell_type": "code",
   "execution_count": null,
   "id": "79a09638-f2d7-4e53-9e33-0ff7d440493f",
   "metadata": {
    "tags": []
   },
   "outputs": [
    {
     "name": "stderr",
     "output_type": "stream",
     "text": [
      "/Users/nimish/anaconda3/lib/python3.11/site-packages/transformers/tokenization_utils_base.py:2364: FutureWarning: The `pad_to_max_length` argument is deprecated and will be removed in a future version, use `padding=True` or `padding='longest'` to pad to the longest sequence in the batch, or use `padding='max_length'` to pad to a max length. In this case, you can give a specific length with `max_length` (e.g. `max_length=45`) or leave max_length to None to pad to the maximal input size of the model (e.g. 512 for Bert).\n",
      "  warnings.warn(\n"
     ]
    },
    {
     "name": "stdout",
     "output_type": "stream",
     "text": [
      "Training Loss per 100 steps: 0.6021205186843872\n",
      "Training Accuracy per 100 steps: 65.71782178217822\n",
      "Training Loss per 100 steps: 0.517496645450592\n",
      "Training Accuracy per 100 steps: 72.38805970149254\n",
      "Training Loss per 100 steps: 0.47046715021133423\n",
      "Training Accuracy per 100 steps: 75.74750830564784\n",
      "Training Loss per 100 steps: 0.44293299317359924\n",
      "Training Accuracy per 100 steps: 77.68079800498754\n",
      "Training Loss per 100 steps: 0.4242279529571533\n",
      "Training Accuracy per 100 steps: 78.76746506986028\n",
      "Training Loss per 100 steps: 0.40636885166168213\n",
      "Training Accuracy per 100 steps: 79.78369384359401\n",
      "Training Loss per 100 steps: 0.38798582553863525\n",
      "Training Accuracy per 100 steps: 80.93794579172611\n",
      "Training Loss per 100 steps: 0.3743298053741455\n",
      "Training Accuracy per 100 steps: 81.83520599250936\n",
      "Training Loss per 100 steps: 0.36238324642181396\n",
      "Training Accuracy per 100 steps: 82.42230854605994\n",
      "Training Loss per 100 steps: 0.3543359339237213\n",
      "Training Accuracy per 100 steps: 82.9045954045954\n",
      "Training Loss per 100 steps: 0.34366878867149353\n",
      "Training Accuracy per 100 steps: 83.594459582198\n",
      "Training Loss per 100 steps: 0.33926936984062195\n",
      "Training Accuracy per 100 steps: 83.82597835137385\n",
      "Training Loss per 100 steps: 0.33334600925445557\n",
      "Training Accuracy per 100 steps: 84.24289008455034\n",
      "Training Loss per 100 steps: 0.32637009024620056\n",
      "Training Accuracy per 100 steps: 84.65381870092791\n",
      "Training Loss per 100 steps: 0.32306188344955444\n",
      "Training Accuracy per 100 steps: 84.74350433044637\n",
      "Training Loss per 100 steps: 0.314941942691803\n",
      "Training Accuracy per 100 steps: 85.17332916926921\n",
      "Training Loss per 100 steps: 0.3115944564342499\n",
      "Training Accuracy per 100 steps: 85.45708406819517\n",
      "Training Loss per 100 steps: 0.30736926198005676\n",
      "Training Accuracy per 100 steps: 85.77873403664631\n",
      "Training Loss per 100 steps: 0.3044455349445343\n",
      "Training Accuracy per 100 steps: 85.96133613887427\n",
      "Training Loss per 100 steps: 0.29956966638565063\n",
      "Training Accuracy per 100 steps: 86.2631184407796\n",
      "Training Loss per 100 steps: 0.29491111636161804\n",
      "Training Accuracy per 100 steps: 86.54212279866731\n",
      "Training Loss per 100 steps: 0.29093870520591736\n",
      "Training Accuracy per 100 steps: 86.75601999091322\n",
      "Training Loss per 100 steps: 0.2876133322715759\n",
      "Training Accuracy per 100 steps: 86.92416340721425\n",
      "Training Loss per 100 steps: 0.2836126387119293\n",
      "Training Accuracy per 100 steps: 87.10953769262807\n",
      "Training Loss per 100 steps: 0.2803514003753662\n",
      "Training Accuracy per 100 steps: 87.30507796881247\n",
      "Training Loss per 100 steps: 0.27788737416267395\n",
      "Training Accuracy per 100 steps: 87.41830065359477\n",
      "Training Loss per 100 steps: 0.2750740349292755\n",
      "Training Accuracy per 100 steps: 87.54627915586819\n",
      "Training Loss per 100 steps: 0.27275460958480835\n",
      "Training Accuracy per 100 steps: 87.68297036772582\n",
      "Training Loss per 100 steps: 0.27005669474601746\n",
      "Training Accuracy per 100 steps: 87.80592899000345\n",
      "Training Loss per 100 steps: 0.2678244113922119\n",
      "Training Accuracy per 100 steps: 87.93735421526158\n",
      "Training Loss per 100 steps: 0.265446275472641\n",
      "Training Accuracy per 100 steps: 88.06836504353434\n",
      "Training Loss per 100 steps: 0.2631595730781555\n",
      "Training Accuracy per 100 steps: 88.17166510465479\n",
      "Training Loss per 100 steps: 0.26136860251426697\n",
      "Training Accuracy per 100 steps: 88.25355952741593\n",
      "Training Loss per 100 steps: 0.25971361994743347\n",
      "Training Accuracy per 100 steps: 88.35636577477213\n",
      "Training Loss per 100 steps: 0.25749877095222473\n",
      "Training Accuracy per 100 steps: 88.49257355041416\n",
      "Training Loss per 100 steps: 0.25539469718933105\n",
      "Training Accuracy per 100 steps: 88.60733129686199\n",
      "Training Loss per 100 steps: 0.2538685202598572\n",
      "Training Accuracy per 100 steps: 88.69224533909754\n",
      "Training Loss per 100 steps: 0.25238436460494995\n",
      "Training Accuracy per 100 steps: 88.76282557221784\n",
      "Training Loss per 100 steps: 0.2503851652145386\n",
      "Training Accuracy per 100 steps: 88.87785183286337\n",
      "Training Loss per 100 steps: 0.24840892851352692\n",
      "Training Accuracy per 100 steps: 88.98712821794551\n",
      "The Total Accuracy for Epoch 0: 89.00602875251198\n",
      "Training Loss Epoch: 0.2481396645307541\n",
      "Training Accuracy Epoch: 89.00602875251198\n",
      "Train completed Successfully\n"
     ]
    }
   ],
   "source": [
    "for epoch in range(EPOCHS):\n",
    "    train(epoch)\n",
    "print(\"Train completed Successfully\")"
   ]
  },
  {
   "cell_type": "code",
   "execution_count": null,
   "id": "4831558d-e603-4799-af94-a94cb82cf9c9",
   "metadata": {},
   "outputs": [
    {
     "name": "stdout",
     "output_type": "stream",
     "text": [
      "Validation Loss per 100 steps: 0.15916046500205994\n",
      "Validation Accuracy per 100 steps: 93.81188118811882\n",
      "Validation Loss per 100 steps: 0.15853050351142883\n",
      "Validation Accuracy per 100 steps: 93.71890547263682\n",
      "Validation Loss per 100 steps: 0.15626990795135498\n",
      "Validation Accuracy per 100 steps: 93.93687707641196\n",
      "Validation Loss per 100 steps: 0.16158774495124817\n",
      "Validation Accuracy per 100 steps: 93.54738154613466\n",
      "Validation Loss per 100 steps: 0.1644349843263626\n",
      "Validation Accuracy per 100 steps: 93.5878243512974\n",
      "Validation Loss per 100 steps: 0.163028284907341\n",
      "Validation Accuracy per 100 steps: 93.71880199667221\n",
      "Validation Loss per 100 steps: 0.16602617502212524\n",
      "Validation Accuracy per 100 steps: 93.43794579172611\n",
      "Validation Loss per 100 steps: 0.16628733277320862\n",
      "Validation Accuracy per 100 steps: 93.39887640449439\n",
      "Validation Loss per 100 steps: 0.16488204896450043\n",
      "Validation Accuracy per 100 steps: 93.47946725860156\n",
      "Validation Loss per 100 steps: 0.1668682098388672\n",
      "Validation Accuracy per 100 steps: 93.39410589410589\n",
      "Validation Loss Epoch: 0.1667812168598175\n",
      "Validation Accuracy Epoch: 93.384444169655\n",
      "Accuracy on validation data = 93.38%\n"
     ]
    }
   ],
   "source": [
    "acc = valid(model, testing_loader)\n",
    "print(\"Accuracy on validation data = %0.2f%%\" % acc)"
   ]
  },
  {
   "cell_type": "markdown",
   "id": "3b3c4e90-0eec-448b-9e9a-e911251454df",
   "metadata": {},
   "source": [
    "### Save the model"
   ]
  },
  {
   "cell_type": "code",
   "execution_count": null,
   "id": "56e3a768-fdd9-444b-8ac8-dce1b61fcc90",
   "metadata": {
    "tags": []
   },
   "outputs": [
    {
     "name": "stdout",
     "output_type": "stream",
     "text": [
      "All files saved\n"
     ]
    }
   ],
   "source": [
    "\n",
    "output_model_file = 'roberta-amazonreviews.pt'\n",
    "\n",
    "model_to_save = model\n",
    "torch.save(model_to_save, output_model_file)\n",
    "\n",
    "print('All files saved')"
   ]
  },
  {
   "cell_type": "markdown",
   "id": "ba26d5f1-dc01-4ff2-8f8f-f2e545e5970e",
   "metadata": {},
   "source": [
    "### Inferences based on the model"
   ]
  },
  {
   "cell_type": "code",
   "execution_count": null,
   "id": "c4c1aa53-9fb4-4219-aef6-5dec87470772",
   "metadata": {
    "tags": []
   },
   "outputs": [],
   "source": [
    "from transformers import RobertaForSequenceClassification, RobertaTokenizer\n",
    "import torch\n",
    "from torch import cuda"
   ]
  },
  {
   "cell_type": "code",
   "execution_count": null,
   "id": "8eb986af-5262-48cd-982f-33b93e3aeaa1",
   "metadata": {
    "tags": []
   },
   "outputs": [],
   "source": [
    "model_name = \"roberta-base\"\n",
    "tokenizer = RobertaTokenizer.from_pretrained(model_name)"
   ]
  },
  {
   "cell_type": "code",
   "execution_count": null,
   "id": "dfce0945-9701-48fe-9ba6-5ac7d1baf358",
   "metadata": {
    "tags": []
   },
   "outputs": [],
   "source": [
    "model = torch.load('roberta-amazonreviews.pt')"
   ]
  },
  {
   "cell_type": "code",
   "execution_count": null,
   "id": "cc7801f1-a4da-4ee2-96f9-c366742bc81a",
   "metadata": {
    "tags": []
   },
   "outputs": [
    {
     "name": "stdout",
     "output_type": "stream",
     "text": [
      "Real Probability: 0.31974130868911743\n",
      "Fake Probability: 0.6802586913108826\n"
     ]
    }
   ],
   "source": [
    "device = 'cuda' if cuda.is_available() else 'cpu'\n",
    "query = \"\"\"I work in the wedding industry and have to work long days, on my feet, outside in the heat, and have to look professional. I've spent a ridiculous amount of money on high end dress shoes like Merrels and just have not been able to find a pair that are comfortable to wear all day. Both for my feet and my back. Enter the Sanuk yoga sling!!! These shoes are amazingly comfortable. Though, I will admit it took a few wears to get used to the feel of the yoga matte bottom. At first, it felt a little \"sticky\" to me, and the fabric part that goes through the toe area was a little thick and took some getting used to. I wore them for a few days before taking them out on a job and I can't get over how comfortable they are. Ii have been wearing these shoes now for 3 months, every work day and I am THRILLED. No more back pain, no more sore feet. I also wear these sometimes during my off time,mans every time I wear them, I get compliments on how cute and comfortable they look. The great thing about these shoes is the yoga matte bottom. It helps your feet grip to the shoe a bit, so your foot can just walk normally, without having to grip the shoe. You may not realize it, but with a lot of Sandals, your foot is having to work to keep the shoe on, changing the way you walk and stand and ultimately causing foot and back pain. Not with these! Also, the soft linen sits comfortably on your skin and breathes nicely in the heat. The only downside is the funky tan lines, which is why I am sure to alternate shoes on my days off, especially if I plan to be outside for most of the day. If it were not for that, I think these might be the only shoes I'd wear all summer. If you are looking for a reasonable priced, comfortable shoe that you can wear and walk in all day.\"\"\"\n",
    "tokens = tokenizer.encode(query,return_tensors=\"pt\")\n",
    "all_tokens = len(tokens)\n",
    "mask = torch.ones_like(tokens)\n",
    "\n",
    "with torch.no_grad():\n",
    "    logits = model(tokens.to(device), attention_mask=mask.to(device))[0]\n",
    "    probs = logits.softmax(dim=-1)\n",
    "\n",
    "fake, real = probs.detach().cpu().flatten().numpy().tolist()\n",
    "\n",
    "print(f\"Real Probability: {real}\\nFake Probability: {fake}\")"
   ]
  },
  {
   "cell_type": "code",
   "execution_count": null,
   "id": "734a282b-7dfb-4bf9-a250-104bb8a43957",
   "metadata": {
    "tags": []
   },
   "outputs": [
    {
     "name": "stdout",
     "output_type": "stream",
     "text": [
      "Real Probability: 0.0019349211361259222\n",
      "Fake Probability: 0.9980650544166565\n"
     ]
    }
   ],
   "source": [
    "query = \"\"\"My old bet was wearing this to the Macy's in January.  This is the first one I've ever had.  I am a 32D, and the first pair I bought were just a little tight.  I'm a bit disappointed.  This is my second pair.  I'm looking forward to wearing them to the Macy's in the fall.  I like the way they look.Love these!These are my favorite.  I have a hard time finding jeans that fit me comfortably, but I have a hard time finding jeans that don't fit.  These jeans are super comfortable and have a great price point.  I have some great jeans to wear for work, but these are the only jeans that I wear for work or for my family.  I will be buying more!  I have a lot of compliments on them.I love these shoes. I love the color and the fit. They fit my body well and are comfortable. I have a wide foot and these fit me well.\n",
    "\n",
    "I'm 5'4\", 130lbs and these fit well. I would recommend them.I wear a size 11.5 in jeans and this fits perfect. I have a narrow foot and this fits perfect. It is very comfortable and fits great. I bought a small and it fit perfectly. I will order another size up.I bought these for my husband, he loves them and he loves them!This is the best pair of sunglasses for the price!  They are so comfortable and easy to use.  I wear them all the time and they don't hurt my feet.  I wear them everyday and my feet are so happy with them!\"\"\"\n",
    "tokens = tokenizer.encode(query,return_tensors=\"pt\")\n",
    "all_tokens = len(tokens[0])\n",
    "mask = torch.ones_like(tokens)\n",
    "\n",
    "with torch.no_grad():\n",
    "    logits = model(tokens.to(device), attention_mask=mask.to(device))[0]\n",
    "    probs = logits.softmax(dim=-1)\n",
    "\n",
    "fake, real = probs.detach().cpu().flatten().numpy().tolist()\n",
    "\n",
    "print(f\"Real Probability: {real}\\nFake Probability: {fake}\")"
   ]
  },
  {
   "cell_type": "code",
   "execution_count": null,
   "id": "a1e8856a-ad51-47ab-b40f-77677d9628b7",
   "metadata": {
    "tags": []
   },
   "outputs": [],
   "source": [
    "def predict(query, model, tokenizer, device=device):\n",
    "    tokens = tokenizer.encode(query)\n",
    "    all_tokens = len(tokens)\n",
    "    tokens = tokens[:tokenizer.model_max_length - 2]\n",
    "    used_tokens = len(tokens)\n",
    "    tokens = torch.tensor([tokenizer.bos_token_id] + tokens + [tokenizer.eos_token_id]).unsqueeze(0)\n",
    "    mask = torch.ones_like(tokens)\n",
    "\n",
    "    with torch.no_grad():\n",
    "        logits = model(tokens.to(device), attention_mask=mask.to(device))[0]\n",
    "        probs = logits.softmax(dim=-1)\n",
    "\n",
    "    fake, real = probs.detach().cpu().flatten().numpy().tolist()\n",
    "    return real"
   ]
  },
  {
   "cell_type": "code",
   "execution_count": null,
   "id": "09778eb7-8651-4014-8e5c-4ae8bcdeb6d6",
   "metadata": {
    "tags": []
   },
   "outputs": [
    {
     "name": "stdout",
     "output_type": "stream",
     "text": [
      "Real %: "
     ]
    },
    {
     "data": {
      "text/plain": [
       "0.2952485978603363"
      ]
     },
     "execution_count": 38,
     "metadata": {},
     "output_type": "execute_result"
    }
   ],
   "source": [
    "query = \"\"\"I work in the wedding industry and have to work long days, on my feet, outside in the heat, and have to look professional. I've spent a ridiculous amount of money on high end dress shoes like Merrels and just have not been able to find a pair that are comfortable to wear all day. Both for my feet and my back. Enter the Sanuk yoga sling!!! These shoes are amazingly comfortable. Though, I will admit it took a few wears to get used to the feel of the yoga matte bottom. At first, it felt a little \"sticky\" to me, and the fabric part that goes through the toe area was a little thick and took some getting used to. I wore them for a few days before taking them out on a job and I can't get over how comfortable they are. Ii have been wearing these shoes now for 3 months, every work day and I am THRILLED. No more back pain, no more sore feet. I also wear these sometimes during my off time,mans every time I wear them, I get compliments on how cute and comfortable they look. The great thing about these shoes is the yoga matte bottom. It helps your feet grip to the shoe a bit, so your foot can just walk normally, without having to grip the shoe. You may not realize it, but with a lot of Sandals, your foot is having to work to keep the shoe on, changing the way you walk and stand and ultimately causing foot and back pain. Not with these! Also, the soft linen sits comfortably on your skin and breathes nicely in the heat. The only downside is the funky tan lines, which is why I am sure to alternate shoes on my days off, especially if I plan to be outside for most of the day. If it were not for that, I think these might be the only shoes I'd wear all summer. If you are looking for a reasonable priced, comfortable shoe that you can wear and walk in all day.\"\"\"\n",
    "print(\"Real %: \",end=\"\")\n",
    "predict(query,model,tokenizer)\n"
   ]
  },
  {
   "cell_type": "markdown",
   "id": "656e7044-af1b-4819-8479-af0dcba2af1a",
   "metadata": {},
   "source": [
    "### Model Metrics"
   ]
  },
  {
   "cell_type": "code",
   "execution_count": null,
   "id": "2f48b047-45a8-4262-915d-4865bde637bf",
   "metadata": {
    "tags": []
   },
   "outputs": [
    {
     "name": "stderr",
     "output_type": "stream",
     "text": [
      "Token indices sequence length is longer than the specified maximum sequence length for this model (721 > 512). Running this sequence through the model will result in indexing errors\n"
     ]
    }
   ],
   "source": [
    "preds, preds_probas = [],[]\n",
    "for i, row in valid_dataset.iterrows():\n",
    "    query = row[\"text_\"]\n",
    "    pred = predict(query,model,tokenizer)\n",
    "    preds_probas.append(pred)\n",
    "    if pred >= 0.5:\n",
    "        preds.append(1)\n",
    "    else:\n",
    "        preds.append(0)"
   ]
  },
  {
   "cell_type": "code",
   "execution_count": null,
   "id": "c0709c78-59f1-4fdf-afe6-794bf3b6cb8d",
   "metadata": {
    "tags": []
   },
   "outputs": [
    {
     "data": {
      "text/plain": [
       "array([[3659,  351],\n",
       "       [ 173, 3904]])"
      ]
     },
     "execution_count": 42,
     "metadata": {},
     "output_type": "execute_result"
    }
   ],
   "source": [
    "from sklearn.metrics import confusion_matrix\n",
    "y_true = valid_dataset.target.values\n",
    "y_pred = preds\n",
    "confusion_matrix(y_true,y_pred)"
   ]
  },
  {
   "cell_type": "code",
   "execution_count": null,
   "id": "fb06058f-79c0-4bb8-881b-9bd9e5680120",
   "metadata": {
    "tags": []
   },
   "outputs": [
    {
     "name": "stdout",
     "output_type": "stream",
     "text": [
      "Accuracy: 93.52046494373685; Precision:91.75088131609871; Recall:95.75668383615404\n"
     ]
    }
   ],
   "source": [
    "from sklearn.metrics import accuracy_score, precision_score, recall_score, classification_report\n",
    "acc = accuracy_score(y_true,y_pred)\n",
    "precision = precision_score(y_true,y_pred)\n",
    "recall = recall_score(y_true,y_pred)\n",
    "print(f\"Accuracy: {acc*100}; Precision:{precision*100}; Recall:{recall*100}\")\n"
   ]
  },
  {
   "cell_type": "code",
   "execution_count": null,
   "id": "ec82e8e3-6dd1-4993-a5ca-2d0314cb8649",
   "metadata": {
    "tags": []
   },
   "outputs": [
    {
     "name": "stdout",
     "output_type": "stream",
     "text": [
      "              precision    recall  f1-score   support\n",
      "\n",
      "          CG       0.95      0.91      0.93      4010\n",
      "          OR       0.92      0.96      0.94      4077\n",
      "\n",
      "    accuracy                           0.94      8087\n",
      "   macro avg       0.94      0.94      0.94      8087\n",
      "weighted avg       0.94      0.94      0.94      8087\n",
      "\n"
     ]
    }
   ],
   "source": [
    "print(classification_report(y_true, y_pred, target_names=[\"CG\",\"OR\"]))"
   ]
  },
  {
   "cell_type": "markdown",
   "id": "c41b1c29-3a5d-4329-8951-14fc51241a45",
   "metadata": {},
   "source": [
    "### Writing Predictions to a file..."
   ]
  },
  {
   "cell_type": "code",
   "execution_count": null,
   "id": "158cc282-c90a-474a-86b2-e07ebee6787d",
   "metadata": {
    "tags": []
   },
   "outputs": [],
   "source": [
    "preds_df_rows = []\n",
    "for i, row in valid_dataset.iterrows():\n",
    "    query = row[\"text_\"]\n",
    "    pred_prob = preds_probas[i]\n",
    "    pred_label = preds[i]\n",
    "    preds_df_rows.append([pred_prob,pred_label])\n",
    "preds_df = pd.DataFrame(preds_df_rows, columns=[\"Finetune_Roberta_Model_Probability\",\"Finetune_Roberta_Model_Prediction\"])\n",
    "\n",
    "preds_df.to_csv(\"roberta_predictions.csv\", index=None)"
   ]
  }
 ],
 "metadata": {
  "kernelspec": {
   "display_name": "Python 3 (ipykernel)",
   "language": "python",
   "name": "python3"
  },
  "language_info": {
   "codemirror_mode": {
    "name": "ipython",
    "version": 3
   },
   "file_extension": ".py",
   "mimetype": "text/x-python",
   "name": "python",
   "nbconvert_exporter": "python",
   "pygments_lexer": "ipython3",
   "version": "3.12.0"
  }
 },
 "nbformat": 4,
 "nbformat_minor": 5
}
